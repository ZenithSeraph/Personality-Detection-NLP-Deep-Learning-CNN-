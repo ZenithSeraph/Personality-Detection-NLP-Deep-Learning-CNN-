{
 "cells": [
  {
   "cell_type": "code",
   "execution_count": 10,
   "metadata": {},
   "outputs": [],
   "source": [
    "import numpy as np\n",
    "import pandas as pd\n",
    "import matplotlib.pyplot as plt\n",
    "import re\n",
    "import string\n",
    "import nltk"
   ]
  },
  {
   "cell_type": "code",
   "execution_count": 11,
   "metadata": {},
   "outputs": [],
   "source": [
    "df = pd.read_csv('mbti.csv')"
   ]
  },
  {
   "cell_type": "code",
   "execution_count": 12,
   "metadata": {},
   "outputs": [],
   "source": [
    "# converting all to lower case \n",
    "df['posts'] = [i.lower() for i in df['posts']]"
   ]
  },
  {
   "cell_type": "code",
   "execution_count": 13,
   "metadata": {},
   "outputs": [
    {
     "data": {
      "text/plain": [
       "0    'http://www.youtube.com/watch?v=qsxhcwe3krw|||...\n",
       "1    'i'm finding the lack of me in these posts ver...\n",
       "2    'good one  _____   https://www.youtube.com/wat...\n",
       "3    'dear intp,   i enjoyed our conversation the o...\n",
       "4    'you're fired.|||that's another silly misconce...\n",
       "Name: posts, dtype: object"
      ]
     },
     "execution_count": 13,
     "metadata": {},
     "output_type": "execute_result"
    }
   ],
   "source": [
    "df['posts'].head()"
   ]
  },
  {
   "cell_type": "code",
   "execution_count": 14,
   "metadata": {},
   "outputs": [],
   "source": [
    "no_groups = df.groupby('type').count()"
   ]
  },
  {
   "cell_type": "code",
   "execution_count": 15,
   "metadata": {},
   "outputs": [
    {
     "data": {
      "text/plain": [
       "<AxesSubplot:xlabel='type'>"
      ]
     },
     "execution_count": 15,
     "metadata": {},
     "output_type": "execute_result"
    },
    {
     "data": {
      "image/png": "[encoded data removed]",
      "text/plain": [
       "<Figure size 432x288 with 1 Axes>"
      ]
     },
     "metadata": {
      "needs_background": "light"
     },
     "output_type": "display_data"
    }
   ],
   "source": [
    "no_groups['posts'].plot(kind= 'bar')"
   ]
  },
  {
   "cell_type": "code",
   "execution_count": 16,
   "metadata": {},
   "outputs": [],
   "source": [
    "df['Distinct Posts'] = [i.split('|||') for i in df['posts']]"
   ]
  },
  {
   "cell_type": "code",
   "execution_count": 17,
   "metadata": {},
   "outputs": [],
   "source": [
    "df['Number of posts'] = df['Distinct Posts'].apply(len)\n",
    "df.drop('Distinct Posts',inplace=True,axis=1)"
   ]
  },
  {
   "cell_type": "code",
   "execution_count": 18,
   "metadata": {},
   "outputs": [],
   "source": [
    "df = df[df['Number of posts']==50]"
   ]
  },
  {
   "cell_type": "code",
   "execution_count": 19,
   "metadata": {},
   "outputs": [],
   "source": [
    "#removing urls\n",
    "df['Posts']= df['posts'].apply(lambda x: re.sub(r'https?:[?:A-Za-z0-9//_?.=/-]+', '', x.replace('|','')))\n",
    "#keeping the end of strings\n",
    "#removing punctuation marks\n",
    "df['Posts']=df['Posts'].apply(lambda x: re.sub('[%s]' % re.escape(string.punctuation), '', x))\n",
    "#removing numbers and alphanumeric characters\n",
    "df['Posts']=df['Posts'].apply(lambda x: re.sub(r'\\w*\\d\\w*', '', x))\n",
    "# removing special symbols\n",
    "df['Posts']=df['Posts'].apply(lambda x: re.sub(r'[0-9,.\"\\'*.?/\\()@#!$%&^+]', '', x))\n",
    "# removing repetitive multiple letter words and too long or too short words\n",
    "df['Posts'] = df['Posts'].apply(lambda x: re.sub(r'([a-z])\\1{2,}[\\s|\\w]*','',x)) \n",
    "df['Posts'] = df['Posts'].apply(lambda x: re.sub(r'(\\b\\w{0,3})?\\b','',x)) \n",
    "df['Posts'] = df['Posts'].apply(lambda x: re.sub(r'(\\b\\w{30,1000})?\\b','',x))\n",
    "#df['Posts'] = df['Posts'].apply(lambda x: re.sub(r'\\s[\\s+]','',x))\n",
    "df.drop('posts',inplace=True,axis=1)\n",
    "df.to_csv('mbti_cleaned.csv')"
   ]
  },
  {
   "cell_type": "code",
   "execution_count": 20,
   "metadata": {
    "scrolled": true
   },
   "outputs": [
    {
     "data": {
      "text/html": [
       "<div>\n",
       "<style scoped>\n",
       "    .dataframe tbody tr th:only-of-type {\n",
       "        vertical-align: middle;\n",
       "    }\n",
       "\n",
       "    .dataframe tbody tr th {\n",
       "        vertical-align: top;\n",
       "    }\n",
       "\n",
       "    .dataframe thead th {\n",
       "        text-align: right;\n",
       "    }\n",
       "</style>\n",
       "<table border=\"1\" class=\"dataframe\">\n",
       "  <thead>\n",
       "    <tr style=\"text-align: right;\">\n",
       "      <th></th>\n",
       "      <th>Number of posts</th>\n",
       "      <th>Posts</th>\n",
       "      <th>type</th>\n",
       "    </tr>\n",
       "  </thead>\n",
       "  <tbody>\n",
       "    <tr>\n",
       "      <th>0</th>\n",
       "      <td>50</td>\n",
       "      <td>intj moments    sportscenter    plays    pra...</td>\n",
       "      <td>INFJ</td>\n",
       "    </tr>\n",
       "    <tr>\n",
       "      <th>1</th>\n",
       "      <td>50</td>\n",
       "      <td>finding  lack    these posts very alarmingsex...</td>\n",
       "      <td>ENTP</td>\n",
       "    </tr>\n",
       "    <tr>\n",
       "      <th>2</th>\n",
       "      <td>50</td>\n",
       "      <td>good       course  which    know thats  blessi...</td>\n",
       "      <td>INTP</td>\n",
       "    </tr>\n",
       "    <tr>\n",
       "      <th>3</th>\n",
       "      <td>50</td>\n",
       "      <td>dear intp    enjoyed  conversation  other   es...</td>\n",
       "      <td>INTJ</td>\n",
       "    </tr>\n",
       "    <tr>\n",
       "      <th>4</th>\n",
       "      <td>50</td>\n",
       "      <td>youre firedthats another silly misconception t...</td>\n",
       "      <td>ENTJ</td>\n",
       "    </tr>\n",
       "    <tr>\n",
       "      <th>...</th>\n",
       "      <td>...</td>\n",
       "      <td>...</td>\n",
       "      <td>...</td>\n",
       "    </tr>\n",
       "    <tr>\n",
       "      <th>7582</th>\n",
       "      <td>50</td>\n",
       "      <td>just because  always think  cats   doms  some...</td>\n",
       "      <td>ISFP</td>\n",
       "    </tr>\n",
       "    <tr>\n",
       "      <th>7583</th>\n",
       "      <td>50</td>\n",
       "      <td>soif this thread already exists someplace else...</td>\n",
       "      <td>ENFP</td>\n",
       "    </tr>\n",
       "    <tr>\n",
       "      <th>7584</th>\n",
       "      <td>50</td>\n",
       "      <td>many questions when   these things   would ta...</td>\n",
       "      <td>INTP</td>\n",
       "    </tr>\n",
       "    <tr>\n",
       "      <th>7585</th>\n",
       "      <td>50</td>\n",
       "      <td>very conflicted right  when  comes  wanting ...</td>\n",
       "      <td>INFP</td>\n",
       "    </tr>\n",
       "    <tr>\n",
       "      <th>7586</th>\n",
       "      <td>50</td>\n",
       "      <td>been  long since  have been  personalitycafe...</td>\n",
       "      <td>INFP</td>\n",
       "    </tr>\n",
       "  </tbody>\n",
       "</table>\n",
       "<p>7587 rows × 3 columns</p>\n",
       "</div>"
      ],
      "text/plain": [
       "      Number of posts                                              Posts  type\n",
       "0                  50    intj moments    sportscenter    plays    pra...  INFJ\n",
       "1                  50   finding  lack    these posts very alarmingsex...  ENTP\n",
       "2                  50  good       course  which    know thats  blessi...  INTP\n",
       "3                  50  dear intp    enjoyed  conversation  other   es...  INTJ\n",
       "4                  50  youre firedthats another silly misconception t...  ENTJ\n",
       "...               ...                                                ...   ...\n",
       "7582               50   just because  always think  cats   doms  some...  ISFP\n",
       "7583               50  soif this thread already exists someplace else...  ENFP\n",
       "7584               50   many questions when   these things   would ta...  INTP\n",
       "7585               50    very conflicted right  when  comes  wanting ...  INFP\n",
       "7586               50    been  long since  have been  personalitycafe...  INFP\n",
       "\n",
       "[7587 rows x 3 columns]"
      ]
     },
     "execution_count": 20,
     "metadata": {},
     "output_type": "execute_result"
    }
   ],
   "source": [
    "data = pd.read_csv('mbti_cleaned.csv')\n",
    "x = data['type']\n",
    "data.drop(['Unnamed: 0', 'type'], axis = 1,inplace = True)\n",
    "data['type'] = x\n",
    "data"
   ]
  },
  {
   "cell_type": "code",
   "execution_count": 21,
   "metadata": {},
   "outputs": [],
   "source": [
    "data.dropna(inplace= True)"
   ]
  },
  {
   "cell_type": "code",
   "execution_count": 22,
   "metadata": {},
   "outputs": [],
   "source": [
    "# Creating a dataframe wherein each person and his personality type is a row and all the posts by him are the columns \n",
    "l2 = list(set(data['type']))\n",
    "d = {}\n",
    "count = 0\n",
    "for ptype in l2:\n",
    "    d[ptype] = ''\n",
    "for pertype in data['type']:\n",
    "    d[pertype] = d[pertype]+\" \"+ data.iloc[count,1]\n",
    "    count+=1\n",
    "   "
   ]
  },
  {
   "cell_type": "code",
   "execution_count": 23,
   "metadata": {
    "scrolled": false
   },
   "outputs": [
    {
     "data": {
      "text/html": [
       "<div>\n",
       "<style scoped>\n",
       "    .dataframe tbody tr th:only-of-type {\n",
       "        vertical-align: middle;\n",
       "    }\n",
       "\n",
       "    .dataframe tbody tr th {\n",
       "        vertical-align: top;\n",
       "    }\n",
       "\n",
       "    .dataframe thead th {\n",
       "        text-align: right;\n",
       "    }\n",
       "</style>\n",
       "<table border=\"1\" class=\"dataframe\">\n",
       "  <thead>\n",
       "    <tr style=\"text-align: right;\">\n",
       "      <th></th>\n",
       "      <th>Posts</th>\n",
       "    </tr>\n",
       "  </thead>\n",
       "  <tbody>\n",
       "    <tr>\n",
       "      <th>INFJ</th>\n",
       "      <td>intj moments    sportscenter    plays    pr...</td>\n",
       "    </tr>\n",
       "    <tr>\n",
       "      <th>ISFJ</th>\n",
       "      <td>love feeling affectionate     love  care   c...</td>\n",
       "    </tr>\n",
       "    <tr>\n",
       "      <th>ISTJ</th>\n",
       "      <td>newtons universal gravity   mean seriously wh...</td>\n",
       "    </tr>\n",
       "    <tr>\n",
       "      <th>ENTJ</th>\n",
       "      <td>youre firedthats another silly misconception ...</td>\n",
       "    </tr>\n",
       "    <tr>\n",
       "      <th>INTP</th>\n",
       "      <td>good       course  which    know thats  bless...</td>\n",
       "    </tr>\n",
       "    <tr>\n",
       "      <th>ESTJ</th>\n",
       "      <td>this  such  catch   here although  quite  ter...</td>\n",
       "    </tr>\n",
       "    <tr>\n",
       "      <th>ESFJ</th>\n",
       "      <td>just curious  dont  many esfj  here   esfj ...</td>\n",
       "    </tr>\n",
       "    <tr>\n",
       "      <th>INTJ</th>\n",
       "      <td>dear intp    enjoyed  conversation  other   e...</td>\n",
       "    </tr>\n",
       "    <tr>\n",
       "      <th>ISTP</th>\n",
       "      <td>from what  read about  enneagram    thoug...</td>\n",
       "    </tr>\n",
       "    <tr>\n",
       "      <th>ESFP</th>\n",
       "      <td>pretty sure theyve mistyped several   tmlt ...</td>\n",
       "    </tr>\n",
       "    <tr>\n",
       "      <th>ENTP</th>\n",
       "      <td>finding  lack    these posts very alarmingse...</td>\n",
       "    </tr>\n",
       "    <tr>\n",
       "      <th>ESTP</th>\n",
       "      <td>splinter cell blacklist  xbox   generally wel...</td>\n",
       "    </tr>\n",
       "    <tr>\n",
       "      <th>INFP</th>\n",
       "      <td>think   agree  personally dont consider myse...</td>\n",
       "    </tr>\n",
       "    <tr>\n",
       "      <th>ENFJ</th>\n",
       "      <td>stuff like disthey  longer become outland...</td>\n",
       "    </tr>\n",
       "    <tr>\n",
       "      <th>ENFP</th>\n",
       "      <td>doesnt want     trip without    staying behi...</td>\n",
       "    </tr>\n",
       "    <tr>\n",
       "      <th>ISFP</th>\n",
       "      <td>they paint without numbersid guess  istp toom...</td>\n",
       "    </tr>\n",
       "  </tbody>\n",
       "</table>\n",
       "</div>"
      ],
      "text/plain": [
       "                                                  Posts\n",
       "INFJ     intj moments    sportscenter    plays    pr...\n",
       "ISFJ    love feeling affectionate     love  care   c...\n",
       "ISTJ   newtons universal gravity   mean seriously wh...\n",
       "ENTJ   youre firedthats another silly misconception ...\n",
       "INTP   good       course  which    know thats  bless...\n",
       "ESTJ   this  such  catch   here although  quite  ter...\n",
       "ESFJ     just curious  dont  many esfj  here   esfj ...\n",
       "INTJ   dear intp    enjoyed  conversation  other   e...\n",
       "ISTP       from what  read about  enneagram    thoug...\n",
       "ESFP     pretty sure theyve mistyped several   tmlt ...\n",
       "ENTP    finding  lack    these posts very alarmingse...\n",
       "ESTP   splinter cell blacklist  xbox   generally wel...\n",
       "INFP    think   agree  personally dont consider myse...\n",
       "ENFJ       stuff like disthey  longer become outland...\n",
       "ENFP    doesnt want     trip without    staying behi...\n",
       "ISFP   they paint without numbersid guess  istp toom..."
      ]
     },
     "execution_count": 23,
     "metadata": {},
     "output_type": "execute_result"
    }
   ],
   "source": [
    "new_data = pd.DataFrame()\n",
    "for i in d.keys():\n",
    "    new_data.loc[i,'Posts']= d[i]\n",
    "new_data"
   ]
  },
  {
   "cell_type": "code",
   "execution_count": 24,
   "metadata": {},
   "outputs": [
    {
     "data": {
      "text/html": [
       "<div>\n",
       "<style scoped>\n",
       "    .dataframe tbody tr th:only-of-type {\n",
       "        vertical-align: middle;\n",
       "    }\n",
       "\n",
       "    .dataframe tbody tr th {\n",
       "        vertical-align: top;\n",
       "    }\n",
       "\n",
       "    .dataframe thead th {\n",
       "        text-align: right;\n",
       "    }\n",
       "</style>\n",
       "<table border=\"1\" class=\"dataframe\">\n",
       "  <thead>\n",
       "    <tr style=\"text-align: right;\">\n",
       "      <th></th>\n",
       "      <th>Posts</th>\n",
       "      <th>Cat_id</th>\n",
       "    </tr>\n",
       "  </thead>\n",
       "  <tbody>\n",
       "    <tr>\n",
       "      <th>INFJ</th>\n",
       "      <td>intj moments    sportscenter    plays    pr...</td>\n",
       "      <td>1</td>\n",
       "    </tr>\n",
       "    <tr>\n",
       "      <th>ISFJ</th>\n",
       "      <td>love feeling affectionate     love  care   c...</td>\n",
       "      <td>2</td>\n",
       "    </tr>\n",
       "    <tr>\n",
       "      <th>ISTJ</th>\n",
       "      <td>newtons universal gravity   mean seriously wh...</td>\n",
       "      <td>3</td>\n",
       "    </tr>\n",
       "    <tr>\n",
       "      <th>ENTJ</th>\n",
       "      <td>youre firedthats another silly misconception ...</td>\n",
       "      <td>4</td>\n",
       "    </tr>\n",
       "    <tr>\n",
       "      <th>INTP</th>\n",
       "      <td>good       course  which    know thats  bless...</td>\n",
       "      <td>5</td>\n",
       "    </tr>\n",
       "    <tr>\n",
       "      <th>ESTJ</th>\n",
       "      <td>this  such  catch   here although  quite  ter...</td>\n",
       "      <td>6</td>\n",
       "    </tr>\n",
       "    <tr>\n",
       "      <th>ESFJ</th>\n",
       "      <td>just curious  dont  many esfj  here   esfj ...</td>\n",
       "      <td>7</td>\n",
       "    </tr>\n",
       "    <tr>\n",
       "      <th>INTJ</th>\n",
       "      <td>dear intp    enjoyed  conversation  other   e...</td>\n",
       "      <td>8</td>\n",
       "    </tr>\n",
       "    <tr>\n",
       "      <th>ISTP</th>\n",
       "      <td>from what  read about  enneagram    thoug...</td>\n",
       "      <td>9</td>\n",
       "    </tr>\n",
       "    <tr>\n",
       "      <th>ESFP</th>\n",
       "      <td>pretty sure theyve mistyped several   tmlt ...</td>\n",
       "      <td>10</td>\n",
       "    </tr>\n",
       "    <tr>\n",
       "      <th>ENTP</th>\n",
       "      <td>finding  lack    these posts very alarmingse...</td>\n",
       "      <td>11</td>\n",
       "    </tr>\n",
       "    <tr>\n",
       "      <th>ESTP</th>\n",
       "      <td>splinter cell blacklist  xbox   generally wel...</td>\n",
       "      <td>12</td>\n",
       "    </tr>\n",
       "    <tr>\n",
       "      <th>INFP</th>\n",
       "      <td>think   agree  personally dont consider myse...</td>\n",
       "      <td>13</td>\n",
       "    </tr>\n",
       "    <tr>\n",
       "      <th>ENFJ</th>\n",
       "      <td>stuff like disthey  longer become outland...</td>\n",
       "      <td>14</td>\n",
       "    </tr>\n",
       "    <tr>\n",
       "      <th>ENFP</th>\n",
       "      <td>doesnt want     trip without    staying behi...</td>\n",
       "      <td>15</td>\n",
       "    </tr>\n",
       "    <tr>\n",
       "      <th>ISFP</th>\n",
       "      <td>they paint without numbersid guess  istp toom...</td>\n",
       "      <td>16</td>\n",
       "    </tr>\n",
       "  </tbody>\n",
       "</table>\n",
       "</div>"
      ],
      "text/plain": [
       "                                                  Posts  Cat_id\n",
       "INFJ     intj moments    sportscenter    plays    pr...       1\n",
       "ISFJ    love feeling affectionate     love  care   c...       2\n",
       "ISTJ   newtons universal gravity   mean seriously wh...       3\n",
       "ENTJ   youre firedthats another silly misconception ...       4\n",
       "INTP   good       course  which    know thats  bless...       5\n",
       "ESTJ   this  such  catch   here although  quite  ter...       6\n",
       "ESFJ     just curious  dont  many esfj  here   esfj ...       7\n",
       "INTJ   dear intp    enjoyed  conversation  other   e...       8\n",
       "ISTP       from what  read about  enneagram    thoug...       9\n",
       "ESFP     pretty sure theyve mistyped several   tmlt ...      10\n",
       "ENTP    finding  lack    these posts very alarmingse...      11\n",
       "ESTP   splinter cell blacklist  xbox   generally wel...      12\n",
       "INFP    think   agree  personally dont consider myse...      13\n",
       "ENFJ       stuff like disthey  longer become outland...      14\n",
       "ENFP    doesnt want     trip without    staying behi...      15\n",
       "ISFP   they paint without numbersid guess  istp toom...      16"
      ]
     },
     "execution_count": 24,
     "metadata": {},
     "output_type": "execute_result"
    }
   ],
   "source": [
    "new_data['Cat_id'] = range(1,17)\n",
    "new_data"
   ]
  },
  {
   "cell_type": "code",
   "execution_count": 25,
   "metadata": {},
   "outputs": [],
   "source": [
    "#TF-IDF MODEL\n",
    "from sklearn.feature_extraction.text import CountVectorizer\n",
    "from sklearn.model_selection import train_test_split\n",
    "from sklearn.feature_extraction.text import TfidfTransformer\n",
    "from sklearn.feature_extraction.text import TfidfVectorizer"
   ]
  },
  {
   "cell_type": "code",
   "execution_count": 26,
   "metadata": {},
   "outputs": [],
   "source": [
    "tfidf  = TfidfVectorizer(sublinear_tf=True,min_df=5, ngram_range=(1, 2), stop_words='english')"
   ]
  },
  {
   "cell_type": "code",
   "execution_count": 27,
   "metadata": {},
   "outputs": [],
   "source": [
    "X = tfidf.fit_transform(new_data['Posts']).toarray()"
   ]
  },
  {
   "cell_type": "code",
   "execution_count": 31,
   "metadata": {},
   "outputs": [
    {
     "name": "stdout",
     "output_type": "stream",
     "text": [
      "[[0.         0.0043763  0.00258471 ... 0.00654132 0.00494285 0.00238954]\n",
      " [0.         0.         0.         ... 0.         0.         0.        ]\n",
      " [0.00585944 0.         0.         ... 0.         0.0050792  0.        ]\n",
      " ...\n",
      " [0.00648296 0.         0.         ... 0.         0.         0.        ]\n",
      " [0.         0.         0.00400914 ... 0.00344417 0.00321286 0.        ]\n",
      " [0.         0.00580219 0.         ... 0.00843956 0.         0.00536406]]\n"
     ]
    }
   ],
   "source": [
    "print(X)"
   ]
  }
 ],
 "metadata": {
  "kernelspec": {
   "display_name": "Python 3",
   "language": "python",
   "name": "python3"
  },
  "language_info": {
   "codemirror_mode": {
    "name": "ipython",
    "version": 3
   },
   "file_extension": ".py",
   "mimetype": "text/x-python",
   "name": "python",
   "nbconvert_exporter": "python",
   "pygments_lexer": "ipython3",
   "version": "3.6.13"
  }
 },
 "nbformat": 4,
 "nbformat_minor": 2
}
